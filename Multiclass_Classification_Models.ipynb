{
  "nbformat": 4,
  "nbformat_minor": 0,
  "metadata": {
    "colab": {
      "name": "Multiclass Classification Models.ipynb",
      "provenance": [],
      "toc_visible": true
    },
    "kernelspec": {
      "name": "python3",
      "display_name": "Python 3"
    },
    "accelerator": "GPU"
  },
  "cells": [
    {
      "cell_type": "markdown",
      "metadata": {
        "id": "A7ua38xzrY3r",
        "colab_type": "text"
      },
      "source": [
        "# **Topic Modelling Using Multiclass Classification**\n",
        "\n",
        "---\n",
        "\n"
      ]
    },
    {
      "cell_type": "markdown",
      "metadata": {
        "id": "FSjhxJLiqngP",
        "colab_type": "text"
      },
      "source": [
        "# **Preparing dataset**"
      ]
    },
    {
      "cell_type": "code",
      "metadata": {
        "id": "lg58cJtACP7I",
        "colab_type": "code",
        "colab": {}
      },
      "source": [
        "import pandas as pd\n",
        "df = pd.read_csv('drive/My Drive/news_data.csv')\n",
        "df.replace({'category': \n",
        "             {'WEIRD NEWS': 'COMEDY', \n",
        "              'WOMEN': 'VOICE',\n",
        "             'QUEER VOICES': 'VOICE',\n",
        "             'LATINO VOICES': 'VOICE',\n",
        "             'BLACK VOICES': 'VOICE',\n",
        "             'COLLEGE': 'EDUCATION',\n",
        "             'GREEN': 'ENVIRONMENT',\n",
        "              'PARENTS': 'FAMILY', \n",
        "              'PARENTING': 'FAMILY',\n",
        "             'DIVORCE': 'FAMILY',\n",
        "             'ARTS': 'ARTS & CULTURE',\n",
        "             'CULTURE & ARTS': 'ARTS & CULTURE',\n",
        "              'STYLE': 'LIFESTYLE',\n",
        "              'HEALTHY LIVING': 'LIFESTYLE',\n",
        "              'WELLNESS': 'LIFESTYLE',\n",
        "              'HOME & LIVING': 'LIFESTYLE',\n",
        "              'STYLE & BEAUTY': 'LIFESTYLE',\n",
        "              'FOOD & DRINK': 'LIFESTYLE',\n",
        "             'TASTE': 'LIFESTYLE'}}, \n",
        "            inplace= True)\n",
        "df = df.set_index(\"category\")\n",
        "df = df.drop([\"MEDIA\",\"FIFTY\",\"THE WORLDPOST\",\"WORLDPOST\",\"WEDDINGS\", \"GOOD NEWS\"], axis=0)\n",
        "df.reset_index(inplace = True) "
      ],
      "execution_count": null,
      "outputs": []
    },
    {
      "cell_type": "markdown",
      "metadata": {
        "id": "T9iROSFbqysc",
        "colab_type": "text"
      },
      "source": [
        "# **Preprocessing Data**"
      ]
    },
    {
      "cell_type": "code",
      "metadata": {
        "id": "qbh8PNa3UUe9",
        "colab_type": "code",
        "colab": {}
      },
      "source": [
        "from sklearn.feature_extraction.text import TfidfVectorizer\n",
        "from sklearn import preprocessing\n",
        "\n",
        "data = df['text']\n",
        "labels = df['category']\n",
        "vectorizer = TfidfVectorizer(sublinear_tf=True, min_df=5, ngram_range=(1, 2), stop_words='english')\n",
        "X = vectorizer.fit_transform(data)\n",
        "le = preprocessing.LabelEncoder()\n",
        "y = le.fit_transform(labels)"
      ],
      "execution_count": null,
      "outputs": []
    },
    {
      "cell_type": "markdown",
      "metadata": {
        "id": "IHvtui8gq8sY",
        "colab_type": "text"
      },
      "source": [
        "# **Apply Model**"
      ]
    },
    {
      "cell_type": "code",
      "metadata": {
        "id": "j46fFqHgWN8h",
        "colab_type": "code",
        "colab": {}
      },
      "source": [
        "#train-test-split\n",
        "\n",
        "from sklearn.model_selection import train_test_split\n",
        "\n",
        "X_train, X_test, y_train, y_test = train_test_split(X, y, test_size=0.25, random_state = 42)"
      ],
      "execution_count": null,
      "outputs": []
    },
    {
      "cell_type": "code",
      "metadata": {
        "id": "O0fK4vqwWUdo",
        "colab_type": "code",
        "colab": {}
      },
      "source": [
        "#As data is imbalanced\n",
        "\n",
        "import numpy as np\n",
        "from sklearn.utils.class_weight import compute_class_weight\n",
        "\n",
        "class_weights = compute_class_weight('balanced', np.unique(y), y)\n",
        "dct = {idx : val for idx, val in enumerate(class_weights)}"
      ],
      "execution_count": null,
      "outputs": []
    },
    {
      "cell_type": "code",
      "metadata": {
        "id": "awXpOiXXV6PL",
        "colab_type": "code",
        "colab": {
          "base_uri": "https://localhost:8080/",
          "height": 34
        },
        "outputId": "4a219cbe-eb37-48a6-db15-bcb9e87a8a42"
      },
      "source": [
        "#Naive Bayes\n",
        "\n",
        "from sklearn.naive_bayes import MultinomialNB\n",
        "\n",
        "nb_clf = MultinomialNB()\n",
        "nb_clf.fit(X_train, y_train)"
      ],
      "execution_count": null,
      "outputs": [
        {
          "output_type": "execute_result",
          "data": {
            "text/plain": [
              "MultinomialNB(alpha=1.0, class_prior=None, fit_prior=True)"
            ]
          },
          "metadata": {
            "tags": []
          },
          "execution_count": 5
        }
      ]
    },
    {
      "cell_type": "code",
      "metadata": {
        "id": "KP1oV8dJXGMN",
        "colab_type": "code",
        "colab": {
          "base_uri": "https://localhost:8080/",
          "height": 530
        },
        "outputId": "df260690-ea38-4484-df70-88a925622777"
      },
      "source": [
        "#Naive Bayes Report\n",
        "\n",
        "from sklearn.metrics import classification_report\n",
        "from sklearn.metrics import accuracy_score\n",
        "\n",
        "predictions = nb_clf.predict(X_test)\n",
        "\n",
        "print('accuracy %s' % accuracy_score(predictions, y_test))\n",
        "print(classification_report(y_test, predictions, target_names=le.classes_))"
      ],
      "execution_count": null,
      "outputs": [
        {
          "output_type": "stream",
          "text": [
            "accuracy 0.5777888080799362\n",
            "                precision    recall  f1-score   support\n",
            "\n",
            "ARTS & CULTURE       1.00      0.01      0.03       963\n",
            "      BUSINESS       0.85      0.05      0.09      1534\n",
            "        COMEDY       0.86      0.09      0.16      2008\n",
            "         CRIME       0.85      0.08      0.14       845\n",
            "     EDUCATION       0.67      0.00      0.01       520\n",
            " ENTERTAINMENT       0.69      0.61      0.65      3998\n",
            "   ENVIRONMENT       0.95      0.04      0.07      1021\n",
            "        FAMILY       0.78      0.45      0.57      3955\n",
            "        IMPACT       0.00      0.00      0.00       858\n",
            "     LIFESTYLE       0.51      0.96      0.67     12479\n",
            "         MONEY       0.00      0.00      0.00       427\n",
            "      POLITICS       0.57      0.94      0.71      8062\n",
            "      RELIGION       0.97      0.05      0.10       608\n",
            "       SCIENCE       1.00      0.02      0.04       533\n",
            "        SPORTS       0.92      0.20      0.33      1189\n",
            "          TECH       1.00      0.05      0.10       506\n",
            "        TRAVEL       0.85      0.38      0.53      2482\n",
            "         VOICE       0.70      0.36      0.47      3790\n",
            "    WORLD NEWS       1.00      0.01      0.02       559\n",
            "\n",
            "      accuracy                           0.58     46337\n",
            "     macro avg       0.75      0.23      0.25     46337\n",
            "  weighted avg       0.67      0.58      0.50     46337\n",
            "\n"
          ],
          "name": "stdout"
        },
        {
          "output_type": "stream",
          "text": [
            "/usr/local/lib/python3.6/dist-packages/sklearn/metrics/_classification.py:1272: UndefinedMetricWarning: Precision and F-score are ill-defined and being set to 0.0 in labels with no predicted samples. Use `zero_division` parameter to control this behavior.\n",
            "  _warn_prf(average, modifier, msg_start, len(result))\n"
          ],
          "name": "stderr"
        }
      ]
    },
    {
      "cell_type": "code",
      "metadata": {
        "id": "InfxHrG-jyQ0",
        "colab_type": "code",
        "colab": {
          "base_uri": "https://localhost:8080/",
          "height": 289
        },
        "outputId": "d4fc4cf9-3b34-4929-bded-51bfdad63a60"
      },
      "source": [
        "#Linear SVM\n",
        "\n",
        "from sklearn.linear_model import SGDClassifier\n",
        "\n",
        "sgd_clf = SGDClassifier(loss='log', class_weight=dct)\n",
        "sgd_clf.fit(X_train, y_train)"
      ],
      "execution_count": null,
      "outputs": [
        {
          "output_type": "execute_result",
          "data": {
            "text/plain": [
              "SGDClassifier(alpha=0.0001, average=False,\n",
              "              class_weight={0: 2.5154718927282103, 1: 1.6430857335354556,\n",
              "                            2: 1.2434671765455705, 3: 2.8649045521292216,\n",
              "                            4: 4.541433891992551, 5: 0.6074853655498816,\n",
              "                            6: 2.472750316856781, 7: 0.6074853655498816,\n",
              "                            8: 2.820179242555652, 9: 0.19932163216934676,\n",
              "                            10: 5.714704159343878, 11: 0.29796267448608693,\n",
              "                            12: 3.816510172143975, 13: 4.4788797061524335,\n",
              "                            14: 1.9973382473382473, 15: 4.685398655139289,\n",
              "                            16: 0.9866491352280773, 17: 0.6309423711273527,\n",
              "                            18: 4.480937069361507},\n",
              "              early_stopping=False, epsilon=0.1, eta0=0.0, fit_intercept=True,\n",
              "              l1_ratio=0.15, learning_rate='optimal', loss='log', max_iter=1000,\n",
              "              n_iter_no_change=5, n_jobs=None, penalty='l2', power_t=0.5,\n",
              "              random_state=None, shuffle=True, tol=0.001,\n",
              "              validation_fraction=0.1, verbose=0, warm_start=False)"
            ]
          },
          "metadata": {
            "tags": []
          },
          "execution_count": 7
        }
      ]
    },
    {
      "cell_type": "code",
      "metadata": {
        "id": "VEXI7M94kGyo",
        "colab_type": "code",
        "colab": {
          "base_uri": "https://localhost:8080/",
          "height": 476
        },
        "outputId": "defe1b95-21bf-4ced-dea2-3bbc2f113c41"
      },
      "source": [
        "#Linear SVM Report\n",
        "predictions = sgd_clf.predict(X_test)\n",
        "\n",
        "print('accuracy %s' % accuracy_score(predictions, y_test))\n",
        "print(classification_report(y_test, predictions, target_names=le.classes_))"
      ],
      "execution_count": null,
      "outputs": [
        {
          "output_type": "stream",
          "text": [
            "accuracy 0.6388631115523232\n",
            "                precision    recall  f1-score   support\n",
            "\n",
            "ARTS & CULTURE       0.47      0.49      0.48       963\n",
            "      BUSINESS       0.51      0.42      0.46      1534\n",
            "        COMEDY       0.56      0.29      0.39      2008\n",
            "         CRIME       0.37      0.73      0.49       845\n",
            "     EDUCATION       0.32      0.65      0.43       520\n",
            " ENTERTAINMENT       0.66      0.59      0.62      3998\n",
            "   ENVIRONMENT       0.46      0.54      0.49      1021\n",
            "        FAMILY       0.68      0.69      0.69      3955\n",
            "        IMPACT       0.31      0.38      0.34       858\n",
            "     LIFESTYLE       0.75      0.77      0.76     12479\n",
            "         MONEY       0.26      0.57      0.36       427\n",
            "      POLITICS       0.80      0.71      0.75      8062\n",
            "      RELIGION       0.48      0.59      0.53       608\n",
            "       SCIENCE       0.38      0.59      0.46       533\n",
            "        SPORTS       0.60      0.75      0.66      1189\n",
            "          TECH       0.37      0.62      0.46       506\n",
            "        TRAVEL       0.69      0.70      0.70      2482\n",
            "         VOICE       0.66      0.39      0.49      3790\n",
            "    WORLD NEWS       0.38      0.57      0.46       559\n",
            "\n",
            "      accuracy                           0.64     46337\n",
            "     macro avg       0.51      0.58      0.53     46337\n",
            "  weighted avg       0.66      0.64      0.64     46337\n",
            "\n"
          ],
          "name": "stdout"
        }
      ]
    },
    {
      "cell_type": "code",
      "metadata": {
        "id": "ljNLVM84k3AH",
        "colab_type": "code",
        "colab": {
          "base_uri": "https://localhost:8080/",
          "height": 272
        },
        "outputId": "7c35e84e-7fe6-4d23-d486-ad0e4f9cc628"
      },
      "source": [
        "#Logistic Regression\n",
        "\n",
        "from sklearn.linear_model import LogisticRegression\n",
        "\n",
        "logreg_clf = LogisticRegression(random_state = 0, class_weight = dct, solver = 'newton-cg', multi_class = 'multinomial')\n",
        "logreg_clf.fit(X_train, y_train)"
      ],
      "execution_count": null,
      "outputs": [
        {
          "output_type": "execute_result",
          "data": {
            "text/plain": [
              "LogisticRegression(C=1.0,\n",
              "                   class_weight={0: 2.5154718927282103, 1: 1.6430857335354556,\n",
              "                                 2: 1.2434671765455705, 3: 2.8649045521292216,\n",
              "                                 4: 4.541433891992551, 5: 0.6074853655498816,\n",
              "                                 6: 2.472750316856781, 7: 0.6074853655498816,\n",
              "                                 8: 2.820179242555652, 9: 0.19932163216934676,\n",
              "                                 10: 5.714704159343878, 11: 0.29796267448608693,\n",
              "                                 12: 3.816510172143975, 13: 4.4788797061524335,\n",
              "                                 14: 1.9973382473382473, 15: 4.685398655139289,\n",
              "                                 16: 0.9866491352280773, 17: 0.6309423711273527,\n",
              "                                 18: 4.480937069361507},\n",
              "                   dual=False, fit_intercept=True, intercept_scaling=1,\n",
              "                   l1_ratio=None, max_iter=100, multi_class='multinomial',\n",
              "                   n_jobs=None, penalty='l2', random_state=0,\n",
              "                   solver='newton-cg', tol=0.0001, verbose=0, warm_start=False)"
            ]
          },
          "metadata": {
            "tags": []
          },
          "execution_count": 9
        }
      ]
    },
    {
      "cell_type": "code",
      "metadata": {
        "id": "RumNl0hrlc6r",
        "colab_type": "code",
        "colab": {
          "base_uri": "https://localhost:8080/",
          "height": 476
        },
        "outputId": "04e0314c-3074-4ce7-f0e2-c802fc3d1a34"
      },
      "source": [
        "#Logistic Regression Report\n",
        "\n",
        "from sklearn.metrics import classification_report\n",
        "from sklearn.metrics import accuracy_score\n",
        "\n",
        "predictions = logreg_clf.predict(X_test)\n",
        "\n",
        "print('accuracy %s' % accuracy_score(predictions, y_test))\n",
        "print(classification_report(y_test, predictions, target_names=le.classes_))"
      ],
      "execution_count": null,
      "outputs": [
        {
          "output_type": "stream",
          "text": [
            "accuracy 0.6707814489500831\n",
            "                precision    recall  f1-score   support\n",
            "\n",
            "ARTS & CULTURE       0.44      0.59      0.50       963\n",
            "      BUSINESS       0.46      0.55      0.50      1534\n",
            "        COMEDY       0.45      0.50      0.47      2008\n",
            "         CRIME       0.44      0.71      0.55       845\n",
            "     EDUCATION       0.39      0.66      0.49       520\n",
            " ENTERTAINMENT       0.68      0.68      0.68      3998\n",
            "   ENVIRONMENT       0.48      0.64      0.55      1021\n",
            "        FAMILY       0.72      0.74      0.73      3955\n",
            "        IMPACT       0.30      0.50      0.37       858\n",
            "     LIFESTYLE       0.88      0.70      0.78     12479\n",
            "         MONEY       0.34      0.58      0.43       427\n",
            "      POLITICS       0.86      0.70      0.78      8062\n",
            "      RELIGION       0.47      0.66      0.55       608\n",
            "       SCIENCE       0.40      0.62      0.49       533\n",
            "        SPORTS       0.65      0.80      0.72      1189\n",
            "          TECH       0.40      0.63      0.49       506\n",
            "        TRAVEL       0.72      0.80      0.76      2482\n",
            "         VOICE       0.65      0.51      0.57      3790\n",
            "    WORLD NEWS       0.41      0.63      0.50       559\n",
            "\n",
            "      accuracy                           0.67     46337\n",
            "     macro avg       0.53      0.64      0.57     46337\n",
            "  weighted avg       0.71      0.67      0.68     46337\n",
            "\n"
          ],
          "name": "stdout"
        }
      ]
    },
    {
      "cell_type": "markdown",
      "metadata": {
        "id": "M4PbTb4mr5kx",
        "colab_type": "text"
      },
      "source": [
        "# **Predicting Topics for New Data**"
      ]
    },
    {
      "cell_type": "code",
      "metadata": {
        "id": "9id9YoAqsBl5",
        "colab_type": "code",
        "colab": {}
      },
      "source": [
        "new_text = [\"Planning to celebrate Holi? Make sure you protect your eyes first\"]\n",
        "vectorizer_new = TfidfVectorizer(sublinear_tf=True, min_df=5, ngram_range=(1, 2), stop_words='english', vocabulary = vectorizer.vocabulary_)\n",
        "X_new= vectorizer_new.fit_transform(new_text)\n",
        "categories = logreg_clf.predict_proba(X_new)"
      ],
      "execution_count": null,
      "outputs": []
    },
    {
      "cell_type": "code",
      "metadata": {
        "id": "LopSxx2QsQPO",
        "colab_type": "code",
        "colab": {
          "base_uri": "https://localhost:8080/",
          "height": 340
        },
        "outputId": "6f302a4f-712e-4952-9c08-a1fba4158dfd"
      },
      "source": [
        "res = []\n",
        "res.append(dict(zip(list(categories[0]), list(le.classes_))))\n",
        "res"
      ],
      "execution_count": null,
      "outputs": [
        {
          "output_type": "execute_result",
          "data": {
            "text/plain": [
              "[{0.006532598230786581: 'WORLD NEWS',\n",
              "  0.00980879648870517: 'EDUCATION',\n",
              "  0.011697322376439135: 'SPORTS',\n",
              "  0.02185187061298773: 'TECH',\n",
              "  0.024319862032169064: 'ENTERTAINMENT',\n",
              "  0.024561486567263858: 'CRIME',\n",
              "  0.02743093216791502: 'POLITICS',\n",
              "  0.03352130578840888: 'COMEDY',\n",
              "  0.03455831985087993: 'BUSINESS',\n",
              "  0.04007904836401336: 'RELIGION',\n",
              "  0.04284170240408259: 'MONEY',\n",
              "  0.048498685246924945: 'SCIENCE',\n",
              "  0.05039271075546483: 'IMPACT',\n",
              "  0.05388009805345149: 'VOICE',\n",
              "  0.05542906332810841: 'ARTS & CULTURE',\n",
              "  0.09062196467246121: 'ENVIRONMENT',\n",
              "  0.10706972495412476: 'FAMILY',\n",
              "  0.10801646517409848: 'TRAVEL',\n",
              "  0.20888804293171465: 'LIFESTYLE'}]"
            ]
          },
          "metadata": {
            "tags": []
          },
          "execution_count": 14
        }
      ]
    },
    {
      "cell_type": "markdown",
      "metadata": {
        "id": "H9Nc4g7ZrMju",
        "colab_type": "text"
      },
      "source": [
        "# **Predicting Topic Distribution for Scraped Data**"
      ]
    },
    {
      "cell_type": "code",
      "metadata": {
        "id": "ncXN-dIHnLjq",
        "colab_type": "code",
        "colab": {}
      },
      "source": [
        "import pandas as pd\n",
        "dataframe = pd.read_csv('drive/My Drive/scraped_data.csv')\n",
        "dataframe['news_text'] = dataframe['Headlines'] + \" \" + dataframe['Short Descsriptions']\n",
        "text = dataframe['news_text'].tolist() "
      ],
      "execution_count": null,
      "outputs": []
    },
    {
      "cell_type": "code",
      "metadata": {
        "id": "UaBBqRiYhvFz",
        "colab_type": "code",
        "colab": {}
      },
      "source": [
        "vectorizer_new = TfidfVectorizer(sublinear_tf=True, min_df=5, ngram_range=(1, 2), stop_words='english', vocabulary = vectorizer.vocabulary_)"
      ],
      "execution_count": null,
      "outputs": []
    },
    {
      "cell_type": "code",
      "metadata": {
        "id": "w39vQlSLZWS2",
        "colab_type": "code",
        "colab": {}
      },
      "source": [
        "X_text = vectorizer_new.fit_transform(text)\n",
        "categories = logreg_clf.predict_proba(X_text)"
      ],
      "execution_count": null,
      "outputs": []
    },
    {
      "cell_type": "code",
      "metadata": {
        "id": "rlxpbJmVak_i",
        "colab_type": "code",
        "colab": {}
      },
      "source": [
        "result = []\n",
        "c = 0\n",
        "for i in categories:\n",
        "  entry = dict(zip(list(le.classes_), list(i)))\n",
        "  entry['news_id'] = c\n",
        "  c += 1\n",
        "  result.append(entry)"
      ],
      "execution_count": null,
      "outputs": []
    },
    {
      "cell_type": "code",
      "metadata": {
        "id": "kshSH1V-al70",
        "colab_type": "code",
        "colab": {}
      },
      "source": [
        "categories_df = pd.DataFrame(result)\n",
        "categories_df.to_csv('topics.csv', index=True, encoding='utf-8')"
      ],
      "execution_count": null,
      "outputs": []
    }
  ]
}