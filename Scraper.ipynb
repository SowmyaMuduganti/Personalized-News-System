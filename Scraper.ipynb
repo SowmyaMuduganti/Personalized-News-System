{
  "nbformat": 4,
  "nbformat_minor": 0,
  "metadata": {
    "colab": {
      "name": "Scraper.ipynb",
      "provenance": [],
      "toc_visible": true
    },
    "kernelspec": {
      "name": "python3",
      "display_name": "Python 3"
    }
  },
  "cells": [
    {
      "cell_type": "markdown",
      "metadata": {
        "id": "89cMsuaPgmDr",
        "colab_type": "text"
      },
      "source": [
        "# **Wep scraping using python**\n",
        "\n",
        "---\n",
        "\n"
      ]
    },
    {
      "cell_type": "code",
      "metadata": {
        "id": "4irQywYTgr72",
        "colab_type": "code",
        "colab": {}
      },
      "source": [
        "import requests\n",
        "requests.packages.urllib3.disable_warnings()\n",
        "\n",
        "from bs4 import BeautifulSoup\n",
        "import pandas as pd"
      ],
      "execution_count": null,
      "outputs": []
    },
    {
      "cell_type": "code",
      "metadata": {
        "id": "XDVMykzek0Ln",
        "colab_type": "code",
        "colab": {}
      },
      "source": [
        "session = requests.Session()\n",
        "headlines = []\n",
        "desc = []\n",
        "links = []"
      ],
      "execution_count": null,
      "outputs": []
    },
    {
      "cell_type": "code",
      "metadata": {
        "id": "T0fMzqJPlxXH",
        "colab_type": "code",
        "colab": {}
      },
      "source": [
        "for i in range(1, 101):\n",
        "  url = \"https://timesofindia.indiatimes.com/blogs/page/\" + str(i) +\"/\"\n",
        "  content = session.get(url, verify=False).content\n",
        "  soup = BeautifulSoup(content, \"html.parser\")\n",
        "  mydivs = soup.findAll(\"div\", {\"class\": \"media article\"})\n",
        "  for div in mydivs:\n",
        "    body = div.find(\"div\",{\"class\": \"media-body\"})\n",
        "    h = body.find('h2')\n",
        "    link = h.find('a')\n",
        "    headlines.append(link.text)\n",
        "    links.append(link.get(\"href\"))\n",
        "    content = body.find(\"div\",{\"class\": \"content\"})\n",
        "    desc.append((content.find('a')).find('p').getText())"
      ],
      "execution_count": null,
      "outputs": []
    },
    {
      "cell_type": "code",
      "metadata": {
        "id": "ocRZqoCzp_W8",
        "colab_type": "code",
        "colab": {}
      },
      "source": [
        "df = pd.DataFrame({'Headlines':headlines, 'Short Descsriptions':desc, 'Links' :links}) "
      ],
      "execution_count": null,
      "outputs": []
    },
    {
      "cell_type": "code",
      "metadata": {
        "id": "PNE1SMfhzmYz",
        "colab_type": "code",
        "colab": {
          "base_uri": "https://localhost:8080/",
          "height": 289
        },
        "outputId": "0a18a247-22ad-4e3a-d49c-2cedee434bf3"
      },
      "source": [
        "df.head()"
      ],
      "execution_count": null,
      "outputs": [
        {
          "output_type": "execute_result",
          "data": {
            "text/html": [
              "<div>\n",
              "<style scoped>\n",
              "    .dataframe tbody tr th:only-of-type {\n",
              "        vertical-align: middle;\n",
              "    }\n",
              "\n",
              "    .dataframe tbody tr th {\n",
              "        vertical-align: top;\n",
              "    }\n",
              "\n",
              "    .dataframe thead th {\n",
              "        text-align: right;\n",
              "    }\n",
              "</style>\n",
              "<table border=\"1\" class=\"dataframe\">\n",
              "  <thead>\n",
              "    <tr style=\"text-align: right;\">\n",
              "      <th></th>\n",
              "      <th>Headlines</th>\n",
              "      <th>Short Descsriptions</th>\n",
              "      <th>Links</th>\n",
              "    </tr>\n",
              "  </thead>\n",
              "  <tbody>\n",
              "    <tr>\n",
              "      <th>0</th>\n",
              "      <td>Toe the line: A godman, Baba Ultapulta, says h...</td>\n",
              "      <td>Following UP CM Yogi Adityanath’s statement th...</td>\n",
              "      <td>https://timesofindia.indiatimes.com/blogs/jugg...</td>\n",
              "    </tr>\n",
              "    <tr>\n",
              "      <th>1</th>\n",
              "      <td>‘A large proportion of healthcare work can be ...</td>\n",
              "      <td>Rani and Abhay Bang, after finishing their mas...</td>\n",
              "      <td>https://timesofindia.indiatimes.com/blogs/stay...</td>\n",
              "    </tr>\n",
              "    <tr>\n",
              "      <th>2</th>\n",
              "      <td>Several alternative paths of devotion</td>\n",
              "      <td>Hasmukh Adhia Krishna gives as many as five di...</td>\n",
              "      <td>https://timesofindia.indiatimes.com/blogs/toi-...</td>\n",
              "    </tr>\n",
              "    <tr>\n",
              "      <th>3</th>\n",
              "      <td>Let’s make India the global factory of Talent:...</td>\n",
              "      <td>One in every six human beings happens to be In...</td>\n",
              "      <td>https://timesofindia.indiatimes.com/blogs/toi-...</td>\n",
              "    </tr>\n",
              "    <tr>\n",
              "      <th>4</th>\n",
              "      <td>Search for greener pasture: Jyotiraditya Scind...</td>\n",
              "      <td>Close observers of Indian politics would not h...</td>\n",
              "      <td>https://timesofindia.indiatimes.com/blogs/rono...</td>\n",
              "    </tr>\n",
              "  </tbody>\n",
              "</table>\n",
              "</div>"
            ],
            "text/plain": [
              "                                           Headlines  ...                                              Links\n",
              "0  Toe the line: A godman, Baba Ultapulta, says h...  ...  https://timesofindia.indiatimes.com/blogs/jugg...\n",
              "1  ‘A large proportion of healthcare work can be ...  ...  https://timesofindia.indiatimes.com/blogs/stay...\n",
              "2              Several alternative paths of devotion  ...  https://timesofindia.indiatimes.com/blogs/toi-...\n",
              "3  Let’s make India the global factory of Talent:...  ...  https://timesofindia.indiatimes.com/blogs/toi-...\n",
              "4  Search for greener pasture: Jyotiraditya Scind...  ...  https://timesofindia.indiatimes.com/blogs/rono...\n",
              "\n",
              "[5 rows x 3 columns]"
            ]
          },
          "metadata": {
            "tags": []
          },
          "execution_count": 5
        }
      ]
    },
    {
      "cell_type": "code",
      "metadata": {
        "id": "d1LjUESl_lKJ",
        "colab_type": "code",
        "colab": {}
      },
      "source": [
        "df.to_csv('scraped_data.csv', index=True, encoding='utf-8')"
      ],
      "execution_count": null,
      "outputs": []
    }
  ]
}